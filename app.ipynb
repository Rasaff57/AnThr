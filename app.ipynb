{
 "cells": [
  {
   "cell_type": "code",
   "execution_count": 1,
   "id": "81b6796d",
   "metadata": {},
   "outputs": [
    {
     "data": {
      "application/vnd.jupyter.widget-view+json": {
       "model_id": "68a0876243d647d8bbdb808b9ce73cca",
       "version_major": 2,
       "version_minor": 0
      },
      "text/plain": [
       "interactive(children=(FloatSlider(value=55.0, description='VO2max', max=80.0, min=40.0, step=0.5), FloatSlider…"
      ]
     },
     "metadata": {},
     "output_type": "display_data"
    },
    {
     "data": {
      "text/plain": [
       "<function __main__.plotLactate(VO2max, VLamax, RunningEco, Ks, Kss, VolRel)>"
      ]
     },
     "execution_count": 1,
     "metadata": {},
     "output_type": "execute_result"
    }
   ],
   "source": [
    "import numpy as np\n",
    "import matplotlib.pyplot as plt\n",
    "import shapely.geometry as sha\n",
    "from pylab import rcParams\n",
    "%matplotlib inline\n",
    "\n",
    "# change size of all figures in this notebook\n",
    "rcParams['figure.figsize'] = 18, 8\n",
    "\n",
    "def plotLactate(VO2max, VLamax, RunningEco, Ks, Kss, VolRel):\n",
    "    \n",
    "    # Generate oxygen steady-states\n",
    "    VO2ss = np.arange(1,VO2max,0.01)\n",
    "    \n",
    "    # potentiate constants\n",
    "    Ks=Ks**2\n",
    "    Kss=Kss**3\n",
    "    \n",
    "    # calculate ADP corresponding to VO2ss (eq. 4b)\n",
    "    ADP = np.sqrt((Ks * VO2ss) / (VO2max - VO2ss)) \n",
    "    \n",
    "    # calculate steady state gross lactic acid (pyruvate) formation rate (eq. 3)\n",
    "    dladtss = 60 * VLamax / (1 + ( Kss / ADP ** 3))\n",
    "\n",
    "    # calculate lactate combustion (eq. 6)\n",
    "    La_comb = (0.01576/VolRel) * VO2ss\n",
    "\n",
    "    # calculate net lactate formation\n",
    "    dladtnet = abs(dladtss - La_comb)\n",
    "    \n",
    "    # calculate the crossing point between gross lactate production and combustion\n",
    "    line_1 = sha.LineString(np.column_stack((dladtss, VO2ss)))\n",
    "    line_2 = sha.LineString(np.column_stack((La_comb, VO2ss)))\n",
    "    intersection = line_1.intersection(line_2)\n",
    "    \n",
    "    # speed at anaerobic threshold\n",
    "    sAT = intersection.y / RunningEco \n",
    "\n",
    "    # percentage of VO2max\n",
    "    pcVO2maxAT = intersection.y / VO2max\n",
    "    \n",
    "    # print to console\n",
    "    print(f'AT is at {round(sAT,2)} m/s, {round(pcVO2maxAT*100,1)}% of VO2max')\n",
    "        \n",
    "    # convert VO2ss into velocity (m/s)\n",
    "    v = VO2ss / RunningEco\n",
    "    \n",
    "    # plot all lactate curves\n",
    "    fig, ax = plt.subplots()\n",
    "    plt.plot(v, dladtnet, color='green')\n",
    "    plt.plot(v, dladtss, color='red')\n",
    "    plt.plot(v, La_comb, color='blue')\n",
    "    \n",
    "    plt.legend(['Lack of Pyruvate + Lactate acummulation', \n",
    "                'Gross Lactate Formation', \n",
    "                'Potential Lactate Removal'])\n",
    "    \n",
    "    # set limits for interactive visualisation\n",
    "    plt.ylim(0, 8)\n",
    "    plt.xlim( 0, 6 )\n",
    "    \n",
    "    ## highlight the crossing point in red\n",
    "    # plt.plot(round(intersection.y,1),round(intersection.x,1), 'ro')\n",
    "    # plt.plot(intersection.y,intersection.x, 'ro')\n",
    "    \n",
    "    # vertical line at AT\n",
    "    \n",
    "    plt.axvline(x=sAT, linestyle='dotted', color='black')\n",
    "    ax.set_xlabel('speed in [m/s]')\n",
    "    ax.set_ylabel('mmol/l/min')\n",
    "    plt.legend(['Lack of Pyruvate + Lactate acummulation', \n",
    "                'Gross Lactate Formation', \n",
    "                'Potential Lactate Removal','AT'])\n",
    "    \n",
    "import ipywidgets as widgets\n",
    "\n",
    "widgets.interact(plotLactate, \n",
    "         VO2max = widgets.FloatSlider(value=55, min=40, max=80,step=0.5),\n",
    "         VLamax = widgets.FloatSlider(value=0.5, min=0.2, max=0.8,step=0.01),\n",
    "         RunningEco = widgets.FloatSlider(value=11.95, min=10, max=15,step=0.05),\n",
    "         Ks = widgets.FloatSlider(value=0.25 , min=0.2, max=0.3,step=0.01),\n",
    "         Kss = widgets.FloatSlider(value=1.2, min=1, max=1.3,step=0.01),\n",
    "         VolRel = widgets.FloatSlider(value=.45, min=.42, max=.45,step=0.01))"
   ]
  }
 ],
 "metadata": {
  "kernelspec": {
   "display_name": "Python 3",
   "language": "python",
   "name": "python3"
  },
  "language_info": {
   "codemirror_mode": {
    "name": "ipython",
    "version": 3
   },
   "file_extension": ".py",
   "mimetype": "text/x-python",
   "name": "python",
   "nbconvert_exporter": "python",
   "pygments_lexer": "ipython3",
   "version": "3.8.3"
  }
 },
 "nbformat": 4,
 "nbformat_minor": 5
}
